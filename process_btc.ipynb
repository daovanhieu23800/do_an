{
 "cells": [
  {
   "cell_type": "code",
   "execution_count": 36,
   "metadata": {},
   "outputs": [],
   "source": [
    "import pandas as pd\n",
    "import pandas_ta as ta\n",
    "import mplfinance as mpf\n",
    "import numpy as np\n",
    "import mplfinance as mpf\n",
    "import matplotlib.pyplot as plt\n",
    "\n"
   ]
  },
  {
   "cell_type": "code",
   "execution_count": 45,
   "metadata": {},
   "outputs": [
    {
     "data": {
      "text/plain": [
       "Index([1981-05-06 00:00:00-04:00, 1981-05-07 00:00:00-04:00,\n",
       "       1981-05-08 00:00:00-04:00, 1981-05-11 00:00:00-04:00,\n",
       "       1981-05-12 00:00:00-04:00, 1981-05-13 00:00:00-04:00,\n",
       "       1981-05-14 00:00:00-04:00, 1981-05-15 00:00:00-04:00,\n",
       "       1981-05-18 00:00:00-04:00, 1981-05-19 00:00:00-04:00,\n",
       "       ...\n",
       "       2023-06-23 00:00:00-04:00, 2023-06-26 00:00:00-04:00,\n",
       "       2023-06-27 00:00:00-04:00, 2023-06-28 00:00:00-04:00,\n",
       "       2023-06-29 00:00:00-04:00, 2023-06-30 00:00:00-04:00,\n",
       "       2023-07-03 00:00:00-04:00, 2023-07-05 00:00:00-04:00,\n",
       "       2023-07-06 00:00:00-04:00, 2023-07-07 00:00:00-04:00],\n",
       "      dtype='object', name='Date', length=10626)"
      ]
     },
     "execution_count": 45,
     "metadata": {},
     "output_type": "execute_result"
    }
   ],
   "source": [
    "AAPL_stock = pd.read_csv('/Users/hieudao/Desktop/ai/do_an/clean_data/clean_apple.csv')\n",
    "\n",
    "AAPL_stock['Date'] = pd.to_datetime(AAPL_stock['Date'])\n",
    "AAPL_stock = AAPL_stock.set_index('Date')\n",
    "\n",
    "AAPL_stock.index"
   ]
  },
  {
   "cell_type": "code",
   "execution_count": 38,
   "metadata": {},
   "outputs": [
    {
     "data": {
      "text/plain": [
       "Index(['Open', 'High', 'Low', 'Close', 'Volume', 'NATR_3', 'RSI_3', 'ADX_3',\n",
       "       'CCI_3_0.015', 'ROC_3', 'STOCHk_14_3_3', 'STOCHd_14_3_3', 'WILLR_3',\n",
       "       'OBV', 'MACD_12_26_9', 'BBL_3_2.0', 'BBM_3_2.0', 'BBU_3_2.0',\n",
       "       'BBB_3_2.0', 'BBP_3_2.0', 'min_price_3', 'max_price_3', 'mid_price',\n",
       "       'tema_2', 'tema_100', 'tema_8', 'ema'],\n",
       "      dtype='object')"
      ]
     },
     "execution_count": 38,
     "metadata": {},
     "output_type": "execute_result"
    }
   ],
   "source": [
    "def calculate_ema(stock_data, N):\n",
    "    if len(stock_data) < N:\n",
    "        raise ValueError(\"Not enough data points to calculate EMA.\")\n",
    "\n",
    "    alpha = 2 / (N + 1)  # EMA smoothing factor\n",
    "    ema_values = [stock_data['Close'].iloc[0]]\n",
    "\n",
    "    for i in range(1, len(stock_data)):\n",
    "        current_close = stock_data['Close'].iloc[i]\n",
    "        ema = (current_close - ema_values[-1]) * alpha + ema_values[-1]\n",
    "        ema_values.append(ema)\n",
    "\n",
    "    return pd.Series(ema_values, index=stock_data.index)\n",
    "ema_series = calculate_ema(AAPL_stock, 14)\n",
    "AAPL_stock['ema'] = ema_series\n",
    "AAPL_stock.columns"
   ]
  },
  {
   "cell_type": "code",
   "execution_count": 39,
   "metadata": {},
   "outputs": [
    {
     "ename": "TypeError",
     "evalue": "Expect data.index as DatetimeIndex",
     "output_type": "error",
     "traceback": [
      "\u001b[0;31m---------------------------------------------------------------------------\u001b[0m",
      "\u001b[0;31mTypeError\u001b[0m                                 Traceback (most recent call last)",
      "Cell \u001b[0;32mIn[39], line 1\u001b[0m\n\u001b[0;32m----> 1\u001b[0m mpf\u001b[39m.\u001b[39;49mplot(AAPL_stock[\u001b[39m-\u001b[39;49m\u001b[39m100\u001b[39;49m:],\u001b[39mtype\u001b[39;49m\u001b[39m=\u001b[39;49m\u001b[39m'\u001b[39;49m\u001b[39mcandle\u001b[39;49m\u001b[39m'\u001b[39;49m,\n\u001b[1;32m      2\u001b[0m          \u001b[39m#mav=(10),\u001b[39;49;00m\n\u001b[1;32m      3\u001b[0m          volume \u001b[39m=\u001b[39;49m \u001b[39mTrue\u001b[39;49;00m, \n\u001b[1;32m      4\u001b[0m          \u001b[39m#show_nontrading=True,\u001b[39;49;00m\n\u001b[1;32m      5\u001b[0m         figsize\u001b[39m=\u001b[39;49m(\u001b[39m30\u001b[39;49m,\u001b[39m20\u001b[39;49m),\n\u001b[1;32m      6\u001b[0m         addplot\u001b[39m=\u001b[39;49m[mpf\u001b[39m.\u001b[39;49mmake_addplot(AAPL_stock[\u001b[39m'\u001b[39;49m\u001b[39mema\u001b[39;49m\u001b[39m'\u001b[39;49m])]\n\u001b[1;32m      7\u001b[0m         )\n",
      "File \u001b[0;32m/usr/local/lib/python3.11/site-packages/mplfinance/plotting.py:417\u001b[0m, in \u001b[0;36mplot\u001b[0;34m(data, **kwargs)\u001b[0m\n\u001b[1;32m    414\u001b[0m \u001b[39m# translate alias types:\u001b[39;00m\n\u001b[1;32m    415\u001b[0m config[\u001b[39m'\u001b[39m\u001b[39mtype\u001b[39m\u001b[39m'\u001b[39m] \u001b[39m=\u001b[39m _get_valid_plot_types(config[\u001b[39m'\u001b[39m\u001b[39mtype\u001b[39m\u001b[39m'\u001b[39m])\n\u001b[0;32m--> 417\u001b[0m dates,opens,highs,lows,closes,volumes \u001b[39m=\u001b[39m _check_and_prepare_data(data, config)\n\u001b[1;32m    419\u001b[0m config[\u001b[39m'\u001b[39m\u001b[39mxlim\u001b[39m\u001b[39m'\u001b[39m] \u001b[39m=\u001b[39m _check_and_convert_xlim_configuration(data, config)\n\u001b[1;32m    421\u001b[0m \u001b[39mif\u001b[39;00m config[\u001b[39m'\u001b[39m\u001b[39mtype\u001b[39m\u001b[39m'\u001b[39m] \u001b[39min\u001b[39;00m VALID_PMOVE_TYPES \u001b[39mand\u001b[39;00m config[\u001b[39m'\u001b[39m\u001b[39maddplot\u001b[39m\u001b[39m'\u001b[39m] \u001b[39mis\u001b[39;00m \u001b[39mnot\u001b[39;00m \u001b[39mNone\u001b[39;00m:\n",
      "File \u001b[0;32m/usr/local/lib/python3.11/site-packages/mplfinance/_arg_validators.py:31\u001b[0m, in \u001b[0;36m_check_and_prepare_data\u001b[0;34m(data, config)\u001b[0m\n\u001b[1;32m     28\u001b[0m     \u001b[39mraise\u001b[39;00m \u001b[39mTypeError\u001b[39;00m(\u001b[39m'\u001b[39m\u001b[39mExpect data as DataFrame\u001b[39m\u001b[39m'\u001b[39m)\n\u001b[1;32m     30\u001b[0m \u001b[39mif\u001b[39;00m \u001b[39mnot\u001b[39;00m \u001b[39misinstance\u001b[39m(data\u001b[39m.\u001b[39mindex,pd\u001b[39m.\u001b[39mcore\u001b[39m.\u001b[39mindexes\u001b[39m.\u001b[39mdatetimes\u001b[39m.\u001b[39mDatetimeIndex):\n\u001b[0;32m---> 31\u001b[0m     \u001b[39mraise\u001b[39;00m \u001b[39mTypeError\u001b[39;00m(\u001b[39m'\u001b[39m\u001b[39mExpect data.index as DatetimeIndex\u001b[39m\u001b[39m'\u001b[39m)\n\u001b[1;32m     33\u001b[0m \u001b[39m# We will not be fully case-insensitive (since Pandas columns as NOT case-insensitive)\u001b[39;00m\n\u001b[1;32m     34\u001b[0m \u001b[39m# but because so many people have requested it, for the default column names we will\u001b[39;00m\n\u001b[1;32m     35\u001b[0m \u001b[39m# try both Capitalized and lower case:\u001b[39;00m\n\u001b[1;32m     36\u001b[0m columns \u001b[39m=\u001b[39m config[\u001b[39m'\u001b[39m\u001b[39mcolumns\u001b[39m\u001b[39m'\u001b[39m]\n",
      "\u001b[0;31mTypeError\u001b[0m: Expect data.index as DatetimeIndex"
     ]
    }
   ],
   "source": [
    "mpf.plot(AAPL_stock[-100:],type='candle',\n",
    "         #mav=(10),\n",
    "         volume = True, \n",
    "         #show_nontrading=True,\n",
    "        figsize=(30,20),\n",
    "        addplot=[mpf.make_addplot(AAPL_stock['ema'])]\n",
    "        )\n",
    "       \n"
   ]
  },
  {
   "cell_type": "code",
   "execution_count": 40,
   "metadata": {},
   "outputs": [
    {
     "data": {
      "text/plain": [
       "Index([1981-05-06 00:00:00-04:00, 1981-05-07 00:00:00-04:00,\n",
       "       1981-05-08 00:00:00-04:00, 1981-05-11 00:00:00-04:00,\n",
       "       1981-05-12 00:00:00-04:00, 1981-05-13 00:00:00-04:00,\n",
       "       1981-05-14 00:00:00-04:00, 1981-05-15 00:00:00-04:00,\n",
       "       1981-05-18 00:00:00-04:00, 1981-05-19 00:00:00-04:00,\n",
       "       ...\n",
       "       2023-06-23 00:00:00-04:00, 2023-06-26 00:00:00-04:00,\n",
       "       2023-06-27 00:00:00-04:00, 2023-06-28 00:00:00-04:00,\n",
       "       2023-06-29 00:00:00-04:00, 2023-06-30 00:00:00-04:00,\n",
       "       2023-07-03 00:00:00-04:00, 2023-07-05 00:00:00-04:00,\n",
       "       2023-07-06 00:00:00-04:00, 2023-07-07 00:00:00-04:00],\n",
       "      dtype='object', name='Date', length=10626)"
      ]
     },
     "execution_count": 40,
     "metadata": {},
     "output_type": "execute_result"
    }
   ],
   "source": [
    "AAPL_stock.index"
   ]
  },
  {
   "cell_type": "code",
   "execution_count": null,
   "metadata": {},
   "outputs": [],
   "source": []
  }
 ],
 "metadata": {
  "kernelspec": {
   "display_name": "Python 3",
   "language": "python",
   "name": "python3"
  },
  "language_info": {
   "codemirror_mode": {
    "name": "ipython",
    "version": 3
   },
   "file_extension": ".py",
   "mimetype": "text/x-python",
   "name": "python",
   "nbconvert_exporter": "python",
   "pygments_lexer": "ipython3",
   "version": "3.11.3"
  },
  "orig_nbformat": 4
 },
 "nbformat": 4,
 "nbformat_minor": 2
}
