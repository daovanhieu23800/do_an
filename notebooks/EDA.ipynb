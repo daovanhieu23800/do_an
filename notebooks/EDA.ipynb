{
 "cells": [
  {
   "cell_type": "code",
   "execution_count": 37,
   "metadata": {},
   "outputs": [],
   "source": [
    "import pandas as pd\n",
    "import matplotlib.pyplot as plt\n",
    "import mplfinance as mpf\n"
   ]
  },
  {
   "cell_type": "code",
   "execution_count": 38,
   "metadata": {},
   "outputs": [
    {
     "name": "stdout",
     "output_type": "stream",
     "text": [
      "Index(['date_time', 'symbol', 'high', 'low', 'open', 'close', 'adj_close',\n",
      "       'volume'],\n",
      "      dtype='object')\n"
     ]
    },
    {
     "data": {
      "text/html": [
       "<div>\n",
       "<style scoped>\n",
       "    .dataframe tbody tr th:only-of-type {\n",
       "        vertical-align: middle;\n",
       "    }\n",
       "\n",
       "    .dataframe tbody tr th {\n",
       "        vertical-align: top;\n",
       "    }\n",
       "\n",
       "    .dataframe thead th {\n",
       "        text-align: right;\n",
       "    }\n",
       "</style>\n",
       "<table border=\"1\" class=\"dataframe\">\n",
       "  <thead>\n",
       "    <tr style=\"text-align: right;\">\n",
       "      <th></th>\n",
       "      <th>date_time</th>\n",
       "      <th>symbol</th>\n",
       "      <th>high</th>\n",
       "      <th>low</th>\n",
       "      <th>open</th>\n",
       "      <th>close</th>\n",
       "      <th>adj_close</th>\n",
       "      <th>volume</th>\n",
       "    </tr>\n",
       "  </thead>\n",
       "  <tbody>\n",
       "    <tr>\n",
       "      <th>0</th>\n",
       "      <td>1980-03-17</td>\n",
       "      <td>PCAR</td>\n",
       "      <td>0.849233</td>\n",
       "      <td>0.834269</td>\n",
       "      <td>0.000000</td>\n",
       "      <td>0.834269</td>\n",
       "      <td>0.242964</td>\n",
       "      <td>126968</td>\n",
       "    </tr>\n",
       "    <tr>\n",
       "      <th>1</th>\n",
       "      <td>1980-03-18</td>\n",
       "      <td>PCAR</td>\n",
       "      <td>0.815563</td>\n",
       "      <td>0.800599</td>\n",
       "      <td>0.000000</td>\n",
       "      <td>0.800599</td>\n",
       "      <td>0.233158</td>\n",
       "      <td>360855</td>\n",
       "    </tr>\n",
       "    <tr>\n",
       "      <th>2</th>\n",
       "      <td>1980-03-19</td>\n",
       "      <td>PCAR</td>\n",
       "      <td>0.804340</td>\n",
       "      <td>0.789375</td>\n",
       "      <td>0.000000</td>\n",
       "      <td>0.789375</td>\n",
       "      <td>0.229890</td>\n",
       "      <td>213840</td>\n",
       "    </tr>\n",
       "    <tr>\n",
       "      <th>3</th>\n",
       "      <td>1980-03-20</td>\n",
       "      <td>PCAR</td>\n",
       "      <td>0.748223</td>\n",
       "      <td>0.733259</td>\n",
       "      <td>0.000000</td>\n",
       "      <td>0.733259</td>\n",
       "      <td>0.213547</td>\n",
       "      <td>400950</td>\n",
       "    </tr>\n",
       "    <tr>\n",
       "      <th>4</th>\n",
       "      <td>1980-03-21</td>\n",
       "      <td>PCAR</td>\n",
       "      <td>0.755705</td>\n",
       "      <td>0.740741</td>\n",
       "      <td>0.000000</td>\n",
       "      <td>0.740741</td>\n",
       "      <td>0.215726</td>\n",
       "      <td>173745</td>\n",
       "    </tr>\n",
       "    <tr>\n",
       "      <th>...</th>\n",
       "      <td>...</td>\n",
       "      <td>...</td>\n",
       "      <td>...</td>\n",
       "      <td>...</td>\n",
       "      <td>...</td>\n",
       "      <td>...</td>\n",
       "      <td>...</td>\n",
       "      <td>...</td>\n",
       "    </tr>\n",
       "    <tr>\n",
       "      <th>10909</th>\n",
       "      <td>2023-06-23</td>\n",
       "      <td>PCAR</td>\n",
       "      <td>78.589996</td>\n",
       "      <td>76.930000</td>\n",
       "      <td>77.660004</td>\n",
       "      <td>78.440002</td>\n",
       "      <td>78.440002</td>\n",
       "      <td>2588900</td>\n",
       "    </tr>\n",
       "    <tr>\n",
       "      <th>10910</th>\n",
       "      <td>2023-06-26</td>\n",
       "      <td>PCAR</td>\n",
       "      <td>79.760002</td>\n",
       "      <td>78.580002</td>\n",
       "      <td>78.860001</td>\n",
       "      <td>79.209999</td>\n",
       "      <td>79.209999</td>\n",
       "      <td>1782900</td>\n",
       "    </tr>\n",
       "    <tr>\n",
       "      <th>10911</th>\n",
       "      <td>2023-06-27</td>\n",
       "      <td>PCAR</td>\n",
       "      <td>80.410004</td>\n",
       "      <td>78.919998</td>\n",
       "      <td>79.449997</td>\n",
       "      <td>80.360001</td>\n",
       "      <td>80.360001</td>\n",
       "      <td>1759500</td>\n",
       "    </tr>\n",
       "    <tr>\n",
       "      <th>10912</th>\n",
       "      <td>2023-06-28</td>\n",
       "      <td>PCAR</td>\n",
       "      <td>80.779999</td>\n",
       "      <td>79.949997</td>\n",
       "      <td>80.360001</td>\n",
       "      <td>80.680000</td>\n",
       "      <td>80.680000</td>\n",
       "      <td>1817600</td>\n",
       "    </tr>\n",
       "    <tr>\n",
       "      <th>10913</th>\n",
       "      <td>2023-06-29</td>\n",
       "      <td>PCAR</td>\n",
       "      <td>83.269997</td>\n",
       "      <td>80.639999</td>\n",
       "      <td>80.989998</td>\n",
       "      <td>82.610001</td>\n",
       "      <td>82.610001</td>\n",
       "      <td>2257000</td>\n",
       "    </tr>\n",
       "  </tbody>\n",
       "</table>\n",
       "<p>10914 rows × 8 columns</p>\n",
       "</div>"
      ],
      "text/plain": [
       "        date_time symbol       high        low       open      close  \\\n",
       "0      1980-03-17   PCAR   0.849233   0.834269   0.000000   0.834269   \n",
       "1      1980-03-18   PCAR   0.815563   0.800599   0.000000   0.800599   \n",
       "2      1980-03-19   PCAR   0.804340   0.789375   0.000000   0.789375   \n",
       "3      1980-03-20   PCAR   0.748223   0.733259   0.000000   0.733259   \n",
       "4      1980-03-21   PCAR   0.755705   0.740741   0.000000   0.740741   \n",
       "...           ...    ...        ...        ...        ...        ...   \n",
       "10909  2023-06-23   PCAR  78.589996  76.930000  77.660004  78.440002   \n",
       "10910  2023-06-26   PCAR  79.760002  78.580002  78.860001  79.209999   \n",
       "10911  2023-06-27   PCAR  80.410004  78.919998  79.449997  80.360001   \n",
       "10912  2023-06-28   PCAR  80.779999  79.949997  80.360001  80.680000   \n",
       "10913  2023-06-29   PCAR  83.269997  80.639999  80.989998  82.610001   \n",
       "\n",
       "       adj_close   volume  \n",
       "0       0.242964   126968  \n",
       "1       0.233158   360855  \n",
       "2       0.229890   213840  \n",
       "3       0.213547   400950  \n",
       "4       0.215726   173745  \n",
       "...          ...      ...  \n",
       "10909  78.440002  2588900  \n",
       "10910  79.209999  1782900  \n",
       "10911  80.360001  1759500  \n",
       "10912  80.680000  1817600  \n",
       "10913  82.610001  2257000  \n",
       "\n",
       "[10914 rows x 8 columns]"
      ]
     },
     "execution_count": 38,
     "metadata": {},
     "output_type": "execute_result"
    }
   ],
   "source": [
    "# READ stock dataset\n",
    "AAPL_stock = pd.read_csv('../datas/PCAR_stock.csv')\n",
    "print(AAPL_stock.columns)\n",
    "AAPL_stock"
   ]
  },
  {
   "cell_type": "code",
   "execution_count": 39,
   "metadata": {},
   "outputs": [],
   "source": [
    "AAPL_stock['date_time'] = pd.to_datetime(AAPL_stock['date_time'])\n",
    "AAPL_stock = AAPL_stock.set_index('date_time')"
   ]
  },
  {
   "cell_type": "code",
   "execution_count": 40,
   "metadata": {},
   "outputs": [
    {
     "name": "stdout",
     "output_type": "stream",
     "text": [
      "           symbol       high        low       open      close  adj_close  \\\n",
      "date_time                                                                  \n",
      "2023-06-15   PCAR  79.230003  77.720001  78.279999  79.080002  79.080002   \n",
      "2023-06-16   PCAR  79.440002  78.470001  79.440002  78.629997  78.629997   \n",
      "2023-06-20   PCAR  78.349998  76.879997  78.250000  77.769997  77.769997   \n",
      "2023-06-21   PCAR  78.830002  77.089996  77.650002  78.519997  78.519997   \n",
      "2023-06-22   PCAR  78.550003  77.629997  78.500000  78.110001  78.110001   \n",
      "2023-06-23   PCAR  78.589996  76.930000  77.660004  78.440002  78.440002   \n",
      "2023-06-26   PCAR  79.760002  78.580002  78.860001  79.209999  79.209999   \n",
      "2023-06-27   PCAR  80.410004  78.919998  79.449997  80.360001  80.360001   \n",
      "2023-06-28   PCAR  80.779999  79.949997  80.360001  80.680000  80.680000   \n",
      "2023-06-29   PCAR  83.269997  80.639999  80.989998  82.610001  82.610001   \n",
      "\n",
      "             volume  \n",
      "date_time            \n",
      "2023-06-15  1792200  \n",
      "2023-06-16  3946800  \n",
      "2023-06-20  2463800  \n",
      "2023-06-21  2292600  \n",
      "2023-06-22  1465600  \n",
      "2023-06-23  2588900  \n",
      "2023-06-26  1782900  \n",
      "2023-06-27  1759500  \n",
      "2023-06-28  1817600  \n",
      "2023-06-29  2257000  \n"
     ]
    },
    {
     "data": {
      "image/png": "[encoded data removed]",
      "text/plain": [
       "<Figure size 3000x1500 with 4 Axes>"
      ]
     },
     "metadata": {},
     "output_type": "display_data"
    }
   ],
   "source": [
    "print(AAPL_stock.tail(10))\n",
    "mpf.plot(AAPL_stock[-90:],type='candle', mav=(10,20), volume = True, show_nontrading=True, figsize=(30,15))"
   ]
  },
  {
   "cell_type": "code",
   "execution_count": 41,
   "metadata": {},
   "outputs": [
    {
     "name": "stderr",
     "output_type": "stream",
     "text": [
      "/usr/local/lib/python3.11/site-packages/pandas/core/arraylike.py:402: RuntimeWarning: invalid value encountered in log\n",
      "  result = getattr(ufunc, method)(*inputs, **kwargs)\n"
     ]
    },
    {
     "data": {
      "text/html": [
       "<div>\n",
       "<style scoped>\n",
       "    .dataframe tbody tr th:only-of-type {\n",
       "        vertical-align: middle;\n",
       "    }\n",
       "\n",
       "    .dataframe tbody tr th {\n",
       "        vertical-align: top;\n",
       "    }\n",
       "\n",
       "    .dataframe thead th {\n",
       "        text-align: right;\n",
       "    }\n",
       "</style>\n",
       "<table border=\"1\" class=\"dataframe\">\n",
       "  <thead>\n",
       "    <tr style=\"text-align: right;\">\n",
       "      <th></th>\n",
       "      <th>symbol</th>\n",
       "      <th>high</th>\n",
       "      <th>low</th>\n",
       "      <th>open</th>\n",
       "      <th>close</th>\n",
       "      <th>adj_close</th>\n",
       "      <th>volume</th>\n",
       "      <th>LogReturns</th>\n",
       "    </tr>\n",
       "    <tr>\n",
       "      <th>date_time</th>\n",
       "      <th></th>\n",
       "      <th></th>\n",
       "      <th></th>\n",
       "      <th></th>\n",
       "      <th></th>\n",
       "      <th></th>\n",
       "      <th></th>\n",
       "      <th></th>\n",
       "    </tr>\n",
       "  </thead>\n",
       "  <tbody>\n",
       "    <tr>\n",
       "      <th>1980-03-18</th>\n",
       "      <td>PCAR</td>\n",
       "      <td>0.815563</td>\n",
       "      <td>0.800599</td>\n",
       "      <td>0.000000</td>\n",
       "      <td>0.800599</td>\n",
       "      <td>0.233158</td>\n",
       "      <td>360855</td>\n",
       "      <td>-0.041196</td>\n",
       "    </tr>\n",
       "    <tr>\n",
       "      <th>1980-03-19</th>\n",
       "      <td>PCAR</td>\n",
       "      <td>0.804340</td>\n",
       "      <td>0.789375</td>\n",
       "      <td>0.000000</td>\n",
       "      <td>0.789375</td>\n",
       "      <td>0.229890</td>\n",
       "      <td>213840</td>\n",
       "      <td>-0.014119</td>\n",
       "    </tr>\n",
       "    <tr>\n",
       "      <th>1980-03-20</th>\n",
       "      <td>PCAR</td>\n",
       "      <td>0.748223</td>\n",
       "      <td>0.733259</td>\n",
       "      <td>0.000000</td>\n",
       "      <td>0.733259</td>\n",
       "      <td>0.213547</td>\n",
       "      <td>400950</td>\n",
       "      <td>-0.073742</td>\n",
       "    </tr>\n",
       "    <tr>\n",
       "      <th>1980-03-21</th>\n",
       "      <td>PCAR</td>\n",
       "      <td>0.755705</td>\n",
       "      <td>0.740741</td>\n",
       "      <td>0.000000</td>\n",
       "      <td>0.740741</td>\n",
       "      <td>0.215726</td>\n",
       "      <td>173745</td>\n",
       "      <td>0.010152</td>\n",
       "    </tr>\n",
       "    <tr>\n",
       "      <th>1980-03-24</th>\n",
       "      <td>PCAR</td>\n",
       "      <td>0.740741</td>\n",
       "      <td>0.725776</td>\n",
       "      <td>0.000000</td>\n",
       "      <td>0.725776</td>\n",
       "      <td>0.211368</td>\n",
       "      <td>441045</td>\n",
       "      <td>-0.020410</td>\n",
       "    </tr>\n",
       "    <tr>\n",
       "      <th>...</th>\n",
       "      <td>...</td>\n",
       "      <td>...</td>\n",
       "      <td>...</td>\n",
       "      <td>...</td>\n",
       "      <td>...</td>\n",
       "      <td>...</td>\n",
       "      <td>...</td>\n",
       "      <td>...</td>\n",
       "    </tr>\n",
       "    <tr>\n",
       "      <th>2023-06-23</th>\n",
       "      <td>PCAR</td>\n",
       "      <td>78.589996</td>\n",
       "      <td>76.930000</td>\n",
       "      <td>77.660004</td>\n",
       "      <td>78.440002</td>\n",
       "      <td>78.440002</td>\n",
       "      <td>2588900</td>\n",
       "      <td>0.004216</td>\n",
       "    </tr>\n",
       "    <tr>\n",
       "      <th>2023-06-26</th>\n",
       "      <td>PCAR</td>\n",
       "      <td>79.760002</td>\n",
       "      <td>78.580002</td>\n",
       "      <td>78.860001</td>\n",
       "      <td>79.209999</td>\n",
       "      <td>79.209999</td>\n",
       "      <td>1782900</td>\n",
       "      <td>0.009769</td>\n",
       "    </tr>\n",
       "    <tr>\n",
       "      <th>2023-06-27</th>\n",
       "      <td>PCAR</td>\n",
       "      <td>80.410004</td>\n",
       "      <td>78.919998</td>\n",
       "      <td>79.449997</td>\n",
       "      <td>80.360001</td>\n",
       "      <td>80.360001</td>\n",
       "      <td>1759500</td>\n",
       "      <td>0.014414</td>\n",
       "    </tr>\n",
       "    <tr>\n",
       "      <th>2023-06-28</th>\n",
       "      <td>PCAR</td>\n",
       "      <td>80.779999</td>\n",
       "      <td>79.949997</td>\n",
       "      <td>80.360001</td>\n",
       "      <td>80.680000</td>\n",
       "      <td>80.680000</td>\n",
       "      <td>1817600</td>\n",
       "      <td>0.003974</td>\n",
       "    </tr>\n",
       "    <tr>\n",
       "      <th>2023-06-29</th>\n",
       "      <td>PCAR</td>\n",
       "      <td>83.269997</td>\n",
       "      <td>80.639999</td>\n",
       "      <td>80.989998</td>\n",
       "      <td>82.610001</td>\n",
       "      <td>82.610001</td>\n",
       "      <td>2257000</td>\n",
       "      <td>0.023640</td>\n",
       "    </tr>\n",
       "  </tbody>\n",
       "</table>\n",
       "<p>10913 rows × 8 columns</p>\n",
       "</div>"
      ],
      "text/plain": [
       "           symbol       high        low       open      close  adj_close  \\\n",
       "date_time                                                                  \n",
       "1980-03-18   PCAR   0.815563   0.800599   0.000000   0.800599   0.233158   \n",
       "1980-03-19   PCAR   0.804340   0.789375   0.000000   0.789375   0.229890   \n",
       "1980-03-20   PCAR   0.748223   0.733259   0.000000   0.733259   0.213547   \n",
       "1980-03-21   PCAR   0.755705   0.740741   0.000000   0.740741   0.215726   \n",
       "1980-03-24   PCAR   0.740741   0.725776   0.000000   0.725776   0.211368   \n",
       "...           ...        ...        ...        ...        ...        ...   \n",
       "2023-06-23   PCAR  78.589996  76.930000  77.660004  78.440002  78.440002   \n",
       "2023-06-26   PCAR  79.760002  78.580002  78.860001  79.209999  79.209999   \n",
       "2023-06-27   PCAR  80.410004  78.919998  79.449997  80.360001  80.360001   \n",
       "2023-06-28   PCAR  80.779999  79.949997  80.360001  80.680000  80.680000   \n",
       "2023-06-29   PCAR  83.269997  80.639999  80.989998  82.610001  82.610001   \n",
       "\n",
       "             volume  LogReturns  \n",
       "date_time                        \n",
       "1980-03-18   360855   -0.041196  \n",
       "1980-03-19   213840   -0.014119  \n",
       "1980-03-20   400950   -0.073742  \n",
       "1980-03-21   173745    0.010152  \n",
       "1980-03-24   441045   -0.020410  \n",
       "...             ...         ...  \n",
       "2023-06-23  2588900    0.004216  \n",
       "2023-06-26  1782900    0.009769  \n",
       "2023-06-27  1759500    0.014414  \n",
       "2023-06-28  1817600    0.003974  \n",
       "2023-06-29  2257000    0.023640  \n",
       "\n",
       "[10913 rows x 8 columns]"
      ]
     },
     "execution_count": 41,
     "metadata": {},
     "output_type": "execute_result"
    }
   ],
   "source": [
    "import numpy as np\n",
    "AAPL_stock['LogReturns'] = np.log(AAPL_stock['close']/AAPL_stock['close'].shift(1))\n",
    "AAPL_stock = AAPL_stock.dropna()\n",
    "AAPL_stock\n"
   ]
  },
  {
   "cell_type": "code",
   "execution_count": 42,
   "metadata": {},
   "outputs": [
    {
     "data": {
      "text/plain": [
       "0.00042108770713767004"
      ]
     },
     "execution_count": 42,
     "metadata": {},
     "output_type": "execute_result"
    }
   ],
   "source": [
    "mean_log_return = AAPL_stock['LogReturns'].mean()\n",
    "mean_log_return"
   ]
  },
  {
   "cell_type": "code",
   "execution_count": 43,
   "metadata": {},
   "outputs": [],
   "source": [
    "AAPL_stock['squared_deviation'] = AAPL_stock['LogReturns'].map(lambda x: (x-mean_log_return)**2)\n"
   ]
  },
  {
   "cell_type": "code",
   "execution_count": 44,
   "metadata": {},
   "outputs": [
    {
     "data": {
      "text/plain": [
       "4.5795818961653065"
      ]
     },
     "execution_count": 44,
     "metadata": {},
     "output_type": "execute_result"
    }
   ],
   "source": [
    "total = AAPL_stock['squared_deviation'].sum()\n",
    "total"
   ]
  },
  {
   "cell_type": "code",
   "execution_count": 45,
   "metadata": {},
   "outputs": [
    {
     "data": {
      "text/plain": [
       "0.32520783984654983"
      ]
     },
     "execution_count": 45,
     "metadata": {},
     "output_type": "execute_result"
    }
   ],
   "source": [
    "his = np.sqrt(252*total/(AAPL_stock.shape[0]-1))\n",
    "his"
   ]
  },
  {
   "cell_type": "code",
   "execution_count": 46,
   "metadata": {},
   "outputs": [],
   "source": [
    "def get_Historical_Volatility(name, stock:pd.DataFrame):\n",
    "    stock.reset_index(inplace=True)\n",
    "\n",
    "    stock['LogReturns'] = np.log(stock['close']/stock['close'].shift(1))\n",
    "    stock = stock.dropna()\n",
    "    mean_log_return = np.mean(stock['LogReturns'])\n",
    "    stock.loc[:, 'squared_deviation'] = stock['LogReturns'].map(lambda x: (x - mean_log_return) ** 2).copy()\n",
    "    total = stock['squared_deviation'].sum()\n",
    "    hv = np.sqrt(252*total/(stock.shape[0]-1))\n",
    "    print(stock)\n",
    "    return (name ,hv)"
   ]
  },
  {
   "cell_type": "code",
   "execution_count": 47,
   "metadata": {},
   "outputs": [],
   "source": [
    "def calculate_volatility(name ,data: pd.DataFrame):\n",
    "    # Calculate the daily logarithmic returns\n",
    "    data['LogReturns'] = np.log(data['close']/data['close'].shift(1))\n",
    "    \n",
    "    # Calculate the mean log return\n",
    "    mean_log_return = np.mean(data['LogReturns'])\n",
    "    \n",
    "    # Calculate the squared deviation using .loc accessor and avoid the SettingWithCopyWarning\n",
    "    data.loc[:, 'squared_deviation'] = data['LogReturns'].map(lambda x: (x - mean_log_return) ** 2).copy()\n",
    "    \n",
    "    # Reset the index\n",
    "    total = data['squared_deviation'].sum()\n",
    "    hv = np.sqrt(22*total/(data.shape[0]-1))\n",
    "    return (name,hv)\n",
    "\n",
    "# Sample usage\n",
    "# Assuming you have a DataFrame named 'df' with a 'Close' column containing daily closing prices\n",
    "# result = calculate_volatility(stock)\n",
    "# print(result)"
   ]
  },
  {
   "cell_type": "code",
   "execution_count": 62,
   "metadata": {},
   "outputs": [
    {
     "name": "stderr",
     "output_type": "stream",
     "text": [
      "/usr/local/lib/python3.11/site-packages/pandas/core/arraylike.py:402: RuntimeWarning: invalid value encountered in log\n",
      "  result = getattr(ufunc, method)(*inputs, **kwargs)\n",
      "/usr/local/lib/python3.11/site-packages/pandas/core/arraylike.py:402: RuntimeWarning: invalid value encountered in log\n",
      "  result = getattr(ufunc, method)(*inputs, **kwargs)\n",
      "/usr/local/lib/python3.11/site-packages/pandas/core/arraylike.py:402: RuntimeWarning: invalid value encountered in log\n",
      "  result = getattr(ufunc, method)(*inputs, **kwargs)\n",
      "/usr/local/lib/python3.11/site-packages/pandas/core/arraylike.py:402: RuntimeWarning: invalid value encountered in log\n",
      "  result = getattr(ufunc, method)(*inputs, **kwargs)\n",
      "/usr/local/lib/python3.11/site-packages/pandas/core/arraylike.py:402: RuntimeWarning: invalid value encountered in log\n",
      "  result = getattr(ufunc, method)(*inputs, **kwargs)\n",
      "/usr/local/lib/python3.11/site-packages/pandas/core/arraylike.py:402: RuntimeWarning: invalid value encountered in log\n",
      "  result = getattr(ufunc, method)(*inputs, **kwargs)\n",
      "/usr/local/lib/python3.11/site-packages/pandas/core/arraylike.py:402: RuntimeWarning: invalid value encountered in log\n",
      "  result = getattr(ufunc, method)(*inputs, **kwargs)\n"
     ]
    },
    {
     "name": "stdout",
     "output_type": "stream",
     "text": [
      "PEP 0.20888566898850108\n",
      "AMD 0.17716670097785145\n",
      "AVGO 0.10447033038664527\n",
      "TXN 0.11154212690660593\n",
      "COST 0.0939662026283399\n",
      "QCOM 0.1433422147893886\n",
      "TMUS 0.1289751934070973\n"
     ]
    },
    {
     "name": "stderr",
     "output_type": "stream",
     "text": [
      "/usr/local/lib/python3.11/site-packages/pandas/core/arraylike.py:402: RuntimeWarning: invalid value encountered in log\n",
      "  result = getattr(ufunc, method)(*inputs, **kwargs)\n",
      "/usr/local/lib/python3.11/site-packages/pandas/core/arraylike.py:402: RuntimeWarning: invalid value encountered in log\n",
      "  result = getattr(ufunc, method)(*inputs, **kwargs)\n",
      "/usr/local/lib/python3.11/site-packages/pandas/core/arraylike.py:402: RuntimeWarning: invalid value encountered in log\n",
      "  result = getattr(ufunc, method)(*inputs, **kwargs)\n",
      "/usr/local/lib/python3.11/site-packages/pandas/core/arraylike.py:402: RuntimeWarning: invalid value encountered in log\n",
      "  result = getattr(ufunc, method)(*inputs, **kwargs)\n",
      "/usr/local/lib/python3.11/site-packages/pandas/core/arraylike.py:402: RuntimeWarning: invalid value encountered in log\n",
      "  result = getattr(ufunc, method)(*inputs, **kwargs)\n",
      "/usr/local/lib/python3.11/site-packages/pandas/core/arraylike.py:402: RuntimeWarning: invalid value encountered in log\n",
      "  result = getattr(ufunc, method)(*inputs, **kwargs)\n",
      "/usr/local/lib/python3.11/site-packages/pandas/core/arraylike.py:402: RuntimeWarning: invalid value encountered in log\n",
      "  result = getattr(ufunc, method)(*inputs, **kwargs)\n",
      "/usr/local/lib/python3.11/site-packages/pandas/core/arraylike.py:402: RuntimeWarning: invalid value encountered in log\n",
      "  result = getattr(ufunc, method)(*inputs, **kwargs)\n",
      "/usr/local/lib/python3.11/site-packages/pandas/core/arraylike.py:402: RuntimeWarning: invalid value encountered in log\n",
      "  result = getattr(ufunc, method)(*inputs, **kwargs)\n"
     ]
    },
    {
     "name": "stdout",
     "output_type": "stream",
     "text": [
      "AMGN 0.11257964109307834\n",
      "CHTR 0.08560936157724011\n",
      "SBUX 0.11161657210432267\n",
      "INTU 0.13697679269785676\n",
      "AMAT 0.14221620852812833\n",
      "ISRG 0.14528938435880528\n",
      "ILMN 0.17951968844335908\n",
      "MU 0.1793680739608009\n",
      "BKNG 0.18615343285915872\n"
     ]
    },
    {
     "name": "stderr",
     "output_type": "stream",
     "text": [
      "/usr/local/lib/python3.11/site-packages/pandas/core/arraylike.py:402: RuntimeWarning: invalid value encountered in log\n",
      "  result = getattr(ufunc, method)(*inputs, **kwargs)\n",
      "/usr/local/lib/python3.11/site-packages/pandas/core/arraylike.py:402: RuntimeWarning: invalid value encountered in log\n",
      "  result = getattr(ufunc, method)(*inputs, **kwargs)\n",
      "/usr/local/lib/python3.11/site-packages/pandas/core/arraylike.py:402: RuntimeWarning: invalid value encountered in log\n",
      "  result = getattr(ufunc, method)(*inputs, **kwargs)\n",
      "/usr/local/lib/python3.11/site-packages/pandas/core/arraylike.py:402: RuntimeWarning: invalid value encountered in log\n",
      "  result = getattr(ufunc, method)(*inputs, **kwargs)\n",
      "/usr/local/lib/python3.11/site-packages/pandas/core/arraylike.py:402: RuntimeWarning: invalid value encountered in log\n",
      "  result = getattr(ufunc, method)(*inputs, **kwargs)\n",
      "/usr/local/lib/python3.11/site-packages/pandas/core/arraylike.py:402: RuntimeWarning: invalid value encountered in log\n",
      "  result = getattr(ufunc, method)(*inputs, **kwargs)\n",
      "/usr/local/lib/python3.11/site-packages/pandas/core/arraylike.py:402: RuntimeWarning: invalid value encountered in log\n",
      "  result = getattr(ufunc, method)(*inputs, **kwargs)\n",
      "/usr/local/lib/python3.11/site-packages/pandas/core/arraylike.py:402: RuntimeWarning: invalid value encountered in log\n",
      "  result = getattr(ufunc, method)(*inputs, **kwargs)\n",
      "/usr/local/lib/python3.11/site-packages/pandas/core/arraylike.py:402: RuntimeWarning: invalid value encountered in log\n",
      "  result = getattr(ufunc, method)(*inputs, **kwargs)\n"
     ]
    },
    {
     "name": "stdout",
     "output_type": "stream",
     "text": [
      "MDLZ 0.06846173985964163\n",
      "GILD 0.14095878423656893\n",
      "ADP 0.07815489921592343\n",
      "FISV 0.03920666834740878\n",
      "VRTX 0.16462046543690287\n",
      "ATVI 0.15274947274791545\n",
      "CSX 0.09095535507576369\n",
      "ADSK 0.1364798116538841\n",
      "REGN 0.19086902928971422\n"
     ]
    },
    {
     "name": "stderr",
     "output_type": "stream",
     "text": [
      "/usr/local/lib/python3.11/site-packages/pandas/core/arraylike.py:402: RuntimeWarning: invalid value encountered in log\n",
      "  result = getattr(ufunc, method)(*inputs, **kwargs)\n",
      "/usr/local/lib/python3.11/site-packages/pandas/core/arraylike.py:402: RuntimeWarning: invalid value encountered in log\n",
      "  result = getattr(ufunc, method)(*inputs, **kwargs)\n",
      "/usr/local/lib/python3.11/site-packages/pandas/core/arraylike.py:402: RuntimeWarning: invalid value encountered in log\n",
      "  result = getattr(ufunc, method)(*inputs, **kwargs)\n",
      "/usr/local/lib/python3.11/site-packages/pandas/core/arraylike.py:402: RuntimeWarning: invalid value encountered in log\n",
      "  result = getattr(ufunc, method)(*inputs, **kwargs)\n",
      "/usr/local/lib/python3.11/site-packages/pandas/core/arraylike.py:402: RuntimeWarning: invalid value encountered in log\n",
      "  result = getattr(ufunc, method)(*inputs, **kwargs)\n",
      "/usr/local/lib/python3.11/site-packages/pandas/core/arraylike.py:402: RuntimeWarning: invalid value encountered in log\n",
      "  result = getattr(ufunc, method)(*inputs, **kwargs)\n",
      "/usr/local/lib/python3.11/site-packages/pandas/core/arraylike.py:402: RuntimeWarning: invalid value encountered in log\n",
      "  result = getattr(ufunc, method)(*inputs, **kwargs)\n",
      "/usr/local/lib/python3.11/site-packages/pandas/core/arraylike.py:402: RuntimeWarning: invalid value encountered in log\n",
      "  result = getattr(ufunc, method)(*inputs, **kwargs)\n",
      "/usr/local/lib/python3.11/site-packages/pandas/core/arraylike.py:402: RuntimeWarning: invalid value encountered in log\n",
      "  result = getattr(ufunc, method)(*inputs, **kwargs)\n"
     ]
    },
    {
     "name": "stdout",
     "output_type": "stream",
     "text": [
      "MELI 0.16719774213136457\n",
      "ADI 0.129177093412852\n",
      "BIIB 0.1698914954091416\n",
      "AAPL 0.13406622802383755\n",
      "MSFT 0.1002949727210114\n",
      "AMZN 0.16652150312487546\n",
      "GOOG 0.0905754290203199\n",
      "GOOGL 0.09051206195477908\n",
      "TSLA 0.16851579582703882\n"
     ]
    },
    {
     "name": "stderr",
     "output_type": "stream",
     "text": [
      "/usr/local/lib/python3.11/site-packages/pandas/core/arraylike.py:402: RuntimeWarning: invalid value encountered in log\n",
      "  result = getattr(ufunc, method)(*inputs, **kwargs)\n",
      "/usr/local/lib/python3.11/site-packages/pandas/core/arraylike.py:402: RuntimeWarning: invalid value encountered in log\n",
      "  result = getattr(ufunc, method)(*inputs, **kwargs)\n",
      "/usr/local/lib/python3.11/site-packages/pandas/core/arraylike.py:402: RuntimeWarning: invalid value encountered in log\n",
      "  result = getattr(ufunc, method)(*inputs, **kwargs)\n",
      "/usr/local/lib/python3.11/site-packages/pandas/core/arraylike.py:402: RuntimeWarning: invalid value encountered in log\n",
      "  result = getattr(ufunc, method)(*inputs, **kwargs)\n",
      "/usr/local/lib/python3.11/site-packages/pandas/core/arraylike.py:402: RuntimeWarning: invalid value encountered in log\n",
      "  result = getattr(ufunc, method)(*inputs, **kwargs)\n",
      "/usr/local/lib/python3.11/site-packages/pandas/core/arraylike.py:402: RuntimeWarning: invalid value encountered in log\n",
      "  result = getattr(ufunc, method)(*inputs, **kwargs)\n",
      "/usr/local/lib/python3.11/site-packages/pandas/core/arraylike.py:402: RuntimeWarning: invalid value encountered in log\n",
      "  result = getattr(ufunc, method)(*inputs, **kwargs)\n",
      "/usr/local/lib/python3.11/site-packages/pandas/core/arraylike.py:402: RuntimeWarning: invalid value encountered in log\n",
      "  result = getattr(ufunc, method)(*inputs, **kwargs)\n",
      "/usr/local/lib/python3.11/site-packages/pandas/core/arraylike.py:402: RuntimeWarning: invalid value encountered in log\n",
      "  result = getattr(ufunc, method)(*inputs, **kwargs)\n"
     ]
    },
    {
     "name": "stdout",
     "output_type": "stream",
     "text": [
      "NVDA 0.17841358507560923\n",
      "PYPL 0.11485141345533789\n",
      "ADBE 0.14465909728392035\n",
      "INTC 0.11783199209741735\n",
      "CMCSA 0.10481378603144162\n",
      "NFLX 0.16929157942378217\n",
      "CSCO 0.11816365143016917\n",
      "LRCX 0.1652918240247929\n",
      "NXPI 0.12700276636783256\n"
     ]
    },
    {
     "name": "stderr",
     "output_type": "stream",
     "text": [
      "/usr/local/lib/python3.11/site-packages/pandas/core/arraylike.py:402: RuntimeWarning: invalid value encountered in log\n",
      "  result = getattr(ufunc, method)(*inputs, **kwargs)\n",
      "/usr/local/lib/python3.11/site-packages/pandas/core/arraylike.py:402: RuntimeWarning: invalid value encountered in log\n",
      "  result = getattr(ufunc, method)(*inputs, **kwargs)\n",
      "/usr/local/lib/python3.11/site-packages/pandas/core/arraylike.py:402: RuntimeWarning: invalid value encountered in log\n",
      "  result = getattr(ufunc, method)(*inputs, **kwargs)\n",
      "/usr/local/lib/python3.11/site-packages/pandas/core/arraylike.py:402: RuntimeWarning: invalid value encountered in log\n",
      "  result = getattr(ufunc, method)(*inputs, **kwargs)\n",
      "/usr/local/lib/python3.11/site-packages/pandas/core/arraylike.py:402: RuntimeWarning: invalid value encountered in log\n",
      "  result = getattr(ufunc, method)(*inputs, **kwargs)\n",
      "/usr/local/lib/python3.11/site-packages/pandas/core/arraylike.py:402: RuntimeWarning: invalid value encountered in log\n",
      "  result = getattr(ufunc, method)(*inputs, **kwargs)\n",
      "/usr/local/lib/python3.11/site-packages/pandas/core/arraylike.py:402: RuntimeWarning: invalid value encountered in log\n",
      "  result = getattr(ufunc, method)(*inputs, **kwargs)\n",
      "/usr/local/lib/python3.11/site-packages/pandas/core/arraylike.py:402: RuntimeWarning: invalid value encountered in log\n",
      "  result = getattr(ufunc, method)(*inputs, **kwargs)\n",
      "/usr/local/lib/python3.11/site-packages/pandas/core/arraylike.py:402: RuntimeWarning: invalid value encountered in log\n",
      "  result = getattr(ufunc, method)(*inputs, **kwargs)\n",
      "/usr/local/lib/python3.11/site-packages/pandas/core/arraylike.py:402: RuntimeWarning: invalid value encountered in log\n",
      "  result = getattr(ufunc, method)(*inputs, **kwargs)\n"
     ]
    },
    {
     "name": "stdout",
     "output_type": "stream",
     "text": [
      "WBA 0.0851189159301913\n",
      "ASML 0.14383919902472467\n",
      "KHC 0.0858236247316216\n",
      "MAR 0.10299498159725322\n",
      "EA 0.13998055760902178\n",
      "BIDU 0.15119672169482765\n",
      "KLAC 0.15139213683500358\n",
      "JD 0.1412505113042365\n",
      "MNST 0.22311803927360876\n",
      "WDC 0.1779774013912856\n"
     ]
    },
    {
     "name": "stderr",
     "output_type": "stream",
     "text": [
      "/usr/local/lib/python3.11/site-packages/pandas/core/arraylike.py:402: RuntimeWarning: invalid value encountered in log\n",
      "  result = getattr(ufunc, method)(*inputs, **kwargs)\n",
      "/usr/local/lib/python3.11/site-packages/pandas/core/arraylike.py:402: RuntimeWarning: invalid value encountered in log\n",
      "  result = getattr(ufunc, method)(*inputs, **kwargs)\n",
      "/usr/local/lib/python3.11/site-packages/pandas/core/arraylike.py:402: RuntimeWarning: invalid value encountered in log\n",
      "  result = getattr(ufunc, method)(*inputs, **kwargs)\n",
      "/usr/local/lib/python3.11/site-packages/pandas/core/arraylike.py:402: RuntimeWarning: invalid value encountered in log\n",
      "  result = getattr(ufunc, method)(*inputs, **kwargs)\n",
      "/usr/local/lib/python3.11/site-packages/pandas/core/arraylike.py:402: RuntimeWarning: invalid value encountered in log\n",
      "  result = getattr(ufunc, method)(*inputs, **kwargs)\n",
      "/usr/local/lib/python3.11/site-packages/pandas/core/arraylike.py:402: RuntimeWarning: invalid value encountered in log\n",
      "  result = getattr(ufunc, method)(*inputs, **kwargs)\n",
      "/usr/local/lib/python3.11/site-packages/pandas/core/arraylike.py:402: RuntimeWarning: invalid value encountered in log\n",
      "  result = getattr(ufunc, method)(*inputs, **kwargs)\n"
     ]
    },
    {
     "name": "stdout",
     "output_type": "stream",
     "text": [
      "EXC 0.0717227733704401\n",
      "CTSH 0.14142025053801804\n",
      "ORLY 0.09927127715027927\n",
      "WDAY 0.11616027847741098\n",
      "XEL 0.06737643043520704\n",
      "NTES 0.16881214542293146\n",
      "CTAS 0.08938252530689046\n"
     ]
    },
    {
     "name": "stderr",
     "output_type": "stream",
     "text": [
      "/usr/local/lib/python3.11/site-packages/pandas/core/arraylike.py:402: RuntimeWarning: invalid value encountered in log\n",
      "  result = getattr(ufunc, method)(*inputs, **kwargs)\n",
      "/usr/local/lib/python3.11/site-packages/pandas/core/arraylike.py:402: RuntimeWarning: invalid value encountered in log\n",
      "  result = getattr(ufunc, method)(*inputs, **kwargs)\n",
      "/usr/local/lib/python3.11/site-packages/pandas/core/arraylike.py:402: RuntimeWarning: invalid value encountered in log\n",
      "  result = getattr(ufunc, method)(*inputs, **kwargs)\n",
      "/usr/local/lib/python3.11/site-packages/pandas/core/arraylike.py:402: RuntimeWarning: invalid value encountered in log\n",
      "  result = getattr(ufunc, method)(*inputs, **kwargs)\n",
      "/usr/local/lib/python3.11/site-packages/pandas/core/arraylike.py:402: RuntimeWarning: invalid value encountered in log\n",
      "  result = getattr(ufunc, method)(*inputs, **kwargs)\n",
      "/usr/local/lib/python3.11/site-packages/pandas/core/arraylike.py:402: RuntimeWarning: invalid value encountered in log\n",
      "  result = getattr(ufunc, method)(*inputs, **kwargs)\n",
      "/usr/local/lib/python3.11/site-packages/pandas/core/arraylike.py:402: RuntimeWarning: invalid value encountered in log\n",
      "  result = getattr(ufunc, method)(*inputs, **kwargs)\n"
     ]
    },
    {
     "name": "stdout",
     "output_type": "stream",
     "text": [
      "SNPS 0.19058844123546637\n",
      "DXCM 0.1630021292426598\n",
      "PAYX 0.10138278801896043\n",
      "VRSK 0.06608282952266144\n",
      "ANSS 0.12431964002556775\n",
      "CDNS 0.14174396106841167\n",
      "SIRI 0.22724268883499005\n",
      "FAST 0.10708019566706807\n"
     ]
    },
    {
     "name": "stderr",
     "output_type": "stream",
     "text": [
      "/usr/local/lib/python3.11/site-packages/pandas/core/arraylike.py:402: RuntimeWarning: invalid value encountered in log\n",
      "  result = getattr(ufunc, method)(*inputs, **kwargs)\n",
      "/usr/local/lib/python3.11/site-packages/pandas/core/arraylike.py:402: RuntimeWarning: invalid value encountered in log\n",
      "  result = getattr(ufunc, method)(*inputs, **kwargs)\n",
      "/usr/local/lib/python3.11/site-packages/pandas/core/arraylike.py:402: RuntimeWarning: invalid value encountered in log\n",
      "  result = getattr(ufunc, method)(*inputs, **kwargs)\n",
      "/usr/local/lib/python3.11/site-packages/pandas/core/arraylike.py:402: RuntimeWarning: invalid value encountered in log\n",
      "  result = getattr(ufunc, method)(*inputs, **kwargs)\n",
      "/usr/local/lib/python3.11/site-packages/pandas/core/arraylike.py:402: RuntimeWarning: invalid value encountered in log\n",
      "  result = getattr(ufunc, method)(*inputs, **kwargs)\n",
      "/usr/local/lib/python3.11/site-packages/pandas/core/arraylike.py:402: RuntimeWarning: invalid value encountered in log\n",
      "  result = getattr(ufunc, method)(*inputs, **kwargs)\n"
     ]
    },
    {
     "name": "stdout",
     "output_type": "stream",
     "text": [
      "CPRT 0.11366241247003978\n",
      "SWKS 0.18707143237320117\n",
      "DLTR 0.12444568528895361\n",
      "SGEN 0.1547987828789067\n",
      "IDXX 0.12448095919819387\n",
      "VRSN 0.163979743543844\n"
     ]
    },
    {
     "name": "stderr",
     "output_type": "stream",
     "text": [
      "/usr/local/lib/python3.11/site-packages/pandas/core/arraylike.py:402: RuntimeWarning: invalid value encountered in log\n",
      "  result = getattr(ufunc, method)(*inputs, **kwargs)\n",
      "/usr/local/lib/python3.11/site-packages/pandas/core/arraylike.py:402: RuntimeWarning: invalid value encountered in log\n",
      "  result = getattr(ufunc, method)(*inputs, **kwargs)\n",
      "/usr/local/lib/python3.11/site-packages/pandas/core/arraylike.py:402: RuntimeWarning: invalid value encountered in log\n",
      "  result = getattr(ufunc, method)(*inputs, **kwargs)\n",
      "/usr/local/lib/python3.11/site-packages/pandas/core/arraylike.py:402: RuntimeWarning: invalid value encountered in log\n",
      "  result = getattr(ufunc, method)(*inputs, **kwargs)\n",
      "/usr/local/lib/python3.11/site-packages/pandas/core/arraylike.py:402: RuntimeWarning: invalid value encountered in log\n",
      "  result = getattr(ufunc, method)(*inputs, **kwargs)\n",
      "/usr/local/lib/python3.11/site-packages/pandas/core/arraylike.py:402: RuntimeWarning: invalid value encountered in log\n",
      "  result = getattr(ufunc, method)(*inputs, **kwargs)\n",
      "/usr/local/lib/python3.11/site-packages/pandas/core/arraylike.py:402: RuntimeWarning: invalid value encountered in log\n",
      "  result = getattr(ufunc, method)(*inputs, **kwargs)\n",
      "/usr/local/lib/python3.11/site-packages/pandas/core/arraylike.py:402: RuntimeWarning: invalid value encountered in log\n",
      "  result = getattr(ufunc, method)(*inputs, **kwargs)\n",
      "/usr/local/lib/python3.11/site-packages/pandas/core/arraylike.py:402: RuntimeWarning: invalid value encountered in log\n",
      "  result = getattr(ufunc, method)(*inputs, **kwargs)\n",
      "/usr/local/lib/python3.11/site-packages/pandas/core/arraylike.py:402: RuntimeWarning: invalid value encountered in log\n",
      "  result = getattr(ufunc, method)(*inputs, **kwargs)\n"
     ]
    },
    {
     "name": "stdout",
     "output_type": "stream",
     "text": [
      "PCAR 0.09608424407118729\n",
      "INCY 0.19026715796028829\n",
      "CDW 0.08471628423349954\n",
      "CHKP 0.14970613589248646\n",
      "ULTA 0.14018355026656285\n",
      "TTWO 0.15494830951575006\n",
      "FOXA 0.10532472945181355\n",
      "LULU 0.14899853474895236\n",
      "MCHP 0.14146281569145913\n",
      "NTAP 0.17000637222814463\n",
      "TCOM 0.15075756410487118\n",
      "EXPE 0.140000367466649\n",
      "BMRN 0.15035429665277175\n",
      "XRAY 0.10350706854439105\n",
      "UAL 0.1926726267296276\n",
      "SPLK 0.1405833078705336\n",
      "ALGN 0.17870559520105275\n"
     ]
    },
    {
     "name": "stderr",
     "output_type": "stream",
     "text": [
      "/usr/local/lib/python3.11/site-packages/pandas/core/arraylike.py:402: RuntimeWarning: invalid value encountered in log\n",
      "  result = getattr(ufunc, method)(*inputs, **kwargs)\n",
      "/usr/local/lib/python3.11/site-packages/pandas/core/arraylike.py:402: RuntimeWarning: invalid value encountered in log\n",
      "  result = getattr(ufunc, method)(*inputs, **kwargs)\n",
      "/usr/local/lib/python3.11/site-packages/pandas/core/arraylike.py:402: RuntimeWarning: invalid value encountered in log\n",
      "  result = getattr(ufunc, method)(*inputs, **kwargs)\n",
      "/usr/local/lib/python3.11/site-packages/pandas/core/arraylike.py:402: RuntimeWarning: invalid value encountered in log\n",
      "  result = getattr(ufunc, method)(*inputs, **kwargs)\n",
      "/usr/local/lib/python3.11/site-packages/pandas/core/arraylike.py:402: RuntimeWarning: invalid value encountered in log\n",
      "  result = getattr(ufunc, method)(*inputs, **kwargs)\n",
      "/usr/local/lib/python3.11/site-packages/pandas/core/arraylike.py:402: RuntimeWarning: invalid value encountered in log\n",
      "  result = getattr(ufunc, method)(*inputs, **kwargs)\n",
      "/usr/local/lib/python3.11/site-packages/pandas/core/arraylike.py:402: RuntimeWarning: invalid value encountered in log\n",
      "  result = getattr(ufunc, method)(*inputs, **kwargs)\n",
      "/usr/local/lib/python3.11/site-packages/pandas/core/arraylike.py:402: RuntimeWarning: invalid value encountered in log\n",
      "  result = getattr(ufunc, method)(*inputs, **kwargs)\n"
     ]
    }
   ],
   "source": [
    "small_volatility_stock = []\n",
    "medium_volatility_stock = []\n",
    "big_volatility_stock = []\n",
    "company=[]\n",
    "volatility = []\n",
    "n=10\n",
    "stocks = pd.read_csv('../datas/postgres_public_stock_data.csv')\n",
    "for sym in stocks['symbol'].unique():\n",
    "    stock =  pd.read_csv(f'../datas/{sym}_stock.csv')\n",
    "    # if stock.shape[0]<252*n:\n",
    "    #     print(sym)\n",
    "    #     continue\n",
    "    name, vol = (calculate_volatility(sym, stock))\n",
    "    print(name, vol)\n",
    "    company.append(name)\n",
    "    volatility.append(vol) \n",
    "    if vol <= 0.1:\n",
    "        small_volatility_stock.append([name,vol])\n",
    "    elif (vol >0.1) and (vol<=0.2):\n",
    "        medium_volatility_stock.append([name,vol])\n",
    "    else:\n",
    "        big_volatility_stock.append([name,vol])\n",
    "\n"
   ]
  },
  {
   "cell_type": "code",
   "execution_count": 63,
   "metadata": {},
   "outputs": [
    {
     "name": "stdout",
     "output_type": "stream",
     "text": [
      "17 71 3\n"
     ]
    }
   ],
   "source": [
    "print(len(small_volatility_stock),len(medium_volatility_stock),len(big_volatility_stock))"
   ]
  },
  {
   "cell_type": "code",
   "execution_count": 64,
   "metadata": {},
   "outputs": [
    {
     "name": "stdout",
     "output_type": "stream",
     "text": [
      "[['COST', 0.0939662026283399], ['CHTR', 0.08560936157724011], ['MDLZ', 0.06846173985964163], ['ADP', 0.07815489921592343], ['FISV', 0.03920666834740878], ['CSX', 0.09095535507576369], ['GOOG', 0.0905754290203199], ['GOOGL', 0.09051206195477908], ['WBA', 0.0851189159301913], ['KHC', 0.0858236247316216], ['EXC', 0.0717227733704401], ['ORLY', 0.09927127715027927], ['XEL', 0.06737643043520704], ['CTAS', 0.08938252530689046], ['VRSK', 0.06608282952266144], ['PCAR', 0.09608424407118729], ['CDW', 0.08471628423349954]]\n"
     ]
    }
   ],
   "source": [
    "print(small_volatility_stock)\n"
   ]
  },
  {
   "cell_type": "code",
   "execution_count": 65,
   "metadata": {},
   "outputs": [
    {
     "name": "stdout",
     "output_type": "stream",
     "text": [
      "[['AMD', 0.17716670097785145], ['AVGO', 0.10447033038664527], ['TXN', 0.11154212690660593], ['QCOM', 0.1433422147893886], ['TMUS', 0.1289751934070973], ['AMGN', 0.11257964109307834], ['SBUX', 0.11161657210432267], ['INTU', 0.13697679269785676], ['AMAT', 0.14221620852812833], ['ISRG', 0.14528938435880528], ['ILMN', 0.17951968844335908], ['MU', 0.1793680739608009], ['BKNG', 0.18615343285915872], ['GILD', 0.14095878423656893], ['VRTX', 0.16462046543690287], ['ATVI', 0.15274947274791545], ['ADSK', 0.1364798116538841], ['REGN', 0.19086902928971422], ['MELI', 0.16719774213136457], ['ADI', 0.129177093412852], ['BIIB', 0.1698914954091416], ['AAPL', 0.13406622802383755], ['MSFT', 0.1002949727210114], ['AMZN', 0.16652150312487546], ['TSLA', 0.16851579582703882], ['NVDA', 0.17841358507560923], ['PYPL', 0.11485141345533789], ['ADBE', 0.14465909728392035], ['INTC', 0.11783199209741735], ['CMCSA', 0.10481378603144162], ['NFLX', 0.16929157942378217], ['CSCO', 0.11816365143016917], ['LRCX', 0.1652918240247929], ['NXPI', 0.12700276636783256], ['ASML', 0.14383919902472467], ['MAR', 0.10299498159725322], ['EA', 0.13998055760902178], ['BIDU', 0.15119672169482765], ['KLAC', 0.15139213683500358], ['JD', 0.1412505113042365], ['WDC', 0.1779774013912856], ['CTSH', 0.14142025053801804], ['WDAY', 0.11616027847741098], ['NTES', 0.16881214542293146], ['SNPS', 0.19058844123546637], ['DXCM', 0.1630021292426598], ['PAYX', 0.10138278801896043], ['ANSS', 0.12431964002556775], ['CDNS', 0.14174396106841167], ['FAST', 0.10708019566706807], ['CPRT', 0.11366241247003978], ['SWKS', 0.18707143237320117], ['DLTR', 0.12444568528895361], ['SGEN', 0.1547987828789067], ['IDXX', 0.12448095919819387], ['VRSN', 0.163979743543844], ['INCY', 0.19026715796028829], ['CHKP', 0.14970613589248646], ['ULTA', 0.14018355026656285], ['TTWO', 0.15494830951575006], ['FOXA', 0.10532472945181355], ['LULU', 0.14899853474895236], ['MCHP', 0.14146281569145913], ['NTAP', 0.17000637222814463], ['TCOM', 0.15075756410487118], ['EXPE', 0.140000367466649], ['BMRN', 0.15035429665277175], ['XRAY', 0.10350706854439105], ['UAL', 0.1926726267296276], ['SPLK', 0.1405833078705336], ['ALGN', 0.17870559520105275]]\n"
     ]
    }
   ],
   "source": [
    "print(medium_volatility_stock)"
   ]
  },
  {
   "cell_type": "code",
   "execution_count": 66,
   "metadata": {},
   "outputs": [
    {
     "name": "stdout",
     "output_type": "stream",
     "text": [
      "[['PEP', 0.20888566898850108], ['MNST', 0.22311803927360876], ['SIRI', 0.22724268883499005]]\n"
     ]
    }
   ],
   "source": [
    "print(big_volatility_stock)"
   ]
  },
  {
   "cell_type": "code",
   "execution_count": 60,
   "metadata": {},
   "outputs": [
    {
     "name": "stdout",
     "output_type": "stream",
     "text": [
      "('AAPL', 0.13406622802383755)\n"
     ]
    },
    {
     "name": "stderr",
     "output_type": "stream",
     "text": [
      "/usr/local/lib/python3.11/site-packages/pandas/core/arraylike.py:402: RuntimeWarning: invalid value encountered in log\n",
      "  result = getattr(ufunc, method)(*inputs, **kwargs)\n"
     ]
    }
   ],
   "source": [
    "test =  pd.read_csv(f'../datas/AAPL_stock.csv')\n",
    "print(calculate_volatility('AAPL', test))\n"
   ]
  },
  {
   "cell_type": "code",
   "execution_count": 61,
   "metadata": {},
   "outputs": [],
   "source": [
    "#GOOGL=0.3, 'AAPL'=0.45, PEP=0.6"
   ]
  },
  {
   "cell_type": "code",
   "execution_count": null,
   "metadata": {},
   "outputs": [],
   "source": []
  },
  {
   "cell_type": "code",
   "execution_count": null,
   "metadata": {},
   "outputs": [],
   "source": []
  },
  {
   "cell_type": "code",
   "execution_count": null,
   "metadata": {},
   "outputs": [],
   "source": []
  }
 ],
 "metadata": {
  "kernelspec": {
   "display_name": "Python 3",
   "language": "python",
   "name": "python3"
  },
  "language_info": {
   "codemirror_mode": {
    "name": "ipython",
    "version": 3
   },
   "file_extension": ".py",
   "mimetype": "text/x-python",
   "name": "python",
   "nbconvert_exporter": "python",
   "pygments_lexer": "ipython3",
   "version": "3.11.3"
  },
  "orig_nbformat": 4
 },
 "nbformat": 4,
 "nbformat_minor": 2
}
